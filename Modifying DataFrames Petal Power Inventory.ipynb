{
 "cells": [
  {
   "cell_type": "markdown",
   "id": "ad9e48d6-67e9-4912-a7f5-76012bc6d60f",
   "metadata": {},
   "source": [
    "# Petal Power Inventory"
   ]
  },
  {
   "cell_type": "code",
   "execution_count": null,
   "id": "2005e88f-3f4b-4298-b2da-85ee398cd340",
   "metadata": {},
   "outputs": [],
   "source": [
    "# Before I analyze anything, I need to import pandas, load the data and I want to examine the first rows\n",
    "\n",
    "import pandas as pd\n",
    "\n",
    "inventory = pd.read_csv('inventory.csv')\n",
    "print(inventory.head(10))\n",
    "\n",
    "# The first 10 rows represent data from the Staten Island location of Petal Power. I want to select these \n",
    "# rows and save them to the variable staten_island\n",
    "\n",
    "staten_island = inventory.iloc[:10]"
   ]
  },
  {
   "cell_type": "markdown",
   "id": "a8663a78-6849-4d86-a860-3db5f7b539d3",
   "metadata": {},
   "source": [
    "#### Answer Customer Emails"
   ]
  },
  {
   "cell_type": "markdown",
   "id": "39e1af44-a15c-4aac-9165-4169f9cc1665",
   "metadata": {},
   "source": [
    "##### A customer just emailed to ask what products are sold at the Staten Island location:"
   ]
  },
  {
   "cell_type": "code",
   "execution_count": null,
   "id": "ab7a3c1e-79ed-444d-869b-9734e3ac786e",
   "metadata": {},
   "outputs": [],
   "source": [
    "# I select the column product_description from staten_island and save it to the variable product_request\n",
    "\n",
    "product_request = staten_island.product_description"
   ]
  },
  {
   "cell_type": "markdown",
   "id": "d8e773e6-0f0d-4048-95d1-8d38c2d5acbf",
   "metadata": {},
   "source": [
    "##### Another customer emails to ask what types of seeds are sold at the Brooklyn location:"
   ]
  },
  {
   "cell_type": "code",
   "execution_count": null,
   "id": "d75b80f9-27cc-4caf-ba84-a6ddd7a1f056",
   "metadata": {},
   "outputs": [],
   "source": [
    "# I select all rows where location is equal to Brooklyn and product_type is equal to seeds and save them to the variable seed_request\n",
    "\n",
    "seed_request = inventory[(inventory.location == 'Brooklyn') & (inventory.product_type == 'seeds')]"
   ]
  },
  {
   "cell_type": "markdown",
   "id": "8a3936dc-ca7c-4e57-89bb-a51b139321cf",
   "metadata": {},
   "source": [
    "#### Inventory"
   ]
  },
  {
   "cell_type": "markdown",
   "id": "52b1baee-e91b-4b0c-a0af-b7aa8a90386c",
   "metadata": {},
   "source": [
    "##### I want to add a column to inventory called in_stock:"
   ]
  },
  {
   "cell_type": "code",
   "execution_count": null,
   "id": "2e6b11a1-7e01-4366-9d0a-f37fa288a84f",
   "metadata": {},
   "outputs": [],
   "source": [
    "# the value in the new column is True if quantity is greater than 0 and False if quantity equals 0\n",
    "\n",
    "inventory['in_stock'] = inventory.apply(lambda row: True if row['quantity'] > 0 else False,axis=1)"
   ]
  },
  {
   "cell_type": "markdown",
   "id": "197afa0b-58ea-4134-aaa6-904afcecc226",
   "metadata": {},
   "source": [
    "##### Petal Power wants to know how valuable their current inventory is:"
   ]
  },
  {
   "cell_type": "code",
   "execution_count": null,
   "id": "fb01247b-b12d-4de0-a5a0-cf2c9ebb9412",
   "metadata": {},
   "outputs": [],
   "source": [
    "# I create a column called total_value that is equal to price multiplied by quantity\n",
    "\n",
    "inventory['total_value'] = inventory.price * inventory.quantity"
   ]
  },
  {
   "cell_type": "markdown",
   "id": "bbe9ad03-cf19-4d3f-b8f1-020ecd95b4c0",
   "metadata": {},
   "source": [
    "##### The Marketing department wants a complete description of each product for their catalog:"
   ]
  },
  {
   "cell_type": "code",
   "execution_count": null,
   "id": "bc042b89-f373-4900-b597-2837677be02a",
   "metadata": {},
   "outputs": [],
   "source": [
    "# I use lambda and create a new column in inventory called full_description that has the complete description \n",
    "# of each product\n",
    "\n",
    "combine_lambda = lambda row: \\\n",
    "    '{} - {}'.format(row.product_type,\n",
    "                     row.product_description)\n",
    "\n",
    "inventory['full_description'] = inventory.apply(combine_lambda, axis=1)"
   ]
  }
 ],
 "metadata": {
  "kernelspec": {
   "display_name": "Python 3 (ipykernel)",
   "language": "python",
   "name": "python3"
  },
  "language_info": {
   "codemirror_mode": {
    "name": "ipython",
    "version": 3
   },
   "file_extension": ".py",
   "mimetype": "text/x-python",
   "name": "python",
   "nbconvert_exporter": "python",
   "pygments_lexer": "ipython3",
   "version": "3.12.4"
  }
 },
 "nbformat": 4,
 "nbformat_minor": 5
}
