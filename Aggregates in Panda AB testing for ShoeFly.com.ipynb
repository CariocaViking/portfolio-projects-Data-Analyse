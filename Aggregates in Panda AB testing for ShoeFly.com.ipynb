{
 "cells": [
  {
   "cell_type": "markdown",
   "id": "1eec3085-1ceb-4ff6-807b-57d40a59f6d2",
   "metadata": {},
   "source": [
    "# A/B testing for ShoeFly.com"
   ]
  },
  {
   "cell_type": "code",
   "execution_count": null,
   "id": "0197d5bb-d9a9-4e80-85b8-6ccf0af405fe",
   "metadata": {},
   "outputs": [],
   "source": [
    "# Before I analyze anything, I need to import pandas, load the data and I want to examine the first rows\n",
    "\n",
    "import pandas as pd\n",
    "\n",
    "ad_clicks = pd.read_csv('ad_clicks.csv')\n",
    "print(ad_clicks.head(10))"
   ]
  },
  {
   "cell_type": "markdown",
   "id": "78432181-fa80-4a52-9419-0f5e9a10e053",
   "metadata": {},
   "source": [
    "#### Analyzing ad sources"
   ]
  },
  {
   "cell_type": "markdown",
   "id": "0a5de06d-e93b-4722-900b-2638f452bc0a",
   "metadata": {},
   "source": [
    "##### How many views came from each utm_source?"
   ]
  },
  {
   "cell_type": "code",
   "execution_count": null,
   "id": "e119304b-b554-498a-92db-0fad36f6d536",
   "metadata": {},
   "outputs": [],
   "source": [
    "print(ad_clicks.groupby('utm_source').user_id.count().reset_index())"
   ]
  },
  {
   "cell_type": "markdown",
   "id": "97354b1a-f9d7-44e8-b38a-2990dc8b41d2",
   "metadata": {},
   "source": [
    "##### I want to create a new column called is_click, which is True if ad_click_timestamp is not null and False otherwise:"
   ]
  },
  {
   "cell_type": "code",
   "execution_count": null,
   "id": "b2aa973e-0d65-4dec-9597-fb69df06419e",
   "metadata": {},
   "outputs": [],
   "source": [
    "ad_clicks['is_click'] = ~ad_clicks\\\n",
    ".ad_click_timestamp.isnull()"
   ]
  },
  {
   "cell_type": "markdown",
   "id": "7ef92d15-3cb1-4454-84d1-50525da76312",
   "metadata": {},
   "source": [
    "##### I want to know the percent of people who clicked on ads from each utm_source:"
   ]
  },
  {
   "cell_type": "code",
   "execution_count": null,
   "id": "e18088ce-a247-4ac3-9e04-f4ad40b570a2",
   "metadata": {},
   "outputs": [],
   "source": [
    "# I start by grouping by utm_source and is_click and count the number of user_id‘s in each of those groups. \n",
    "# The answer I save to the variable clicks_by_source\n",
    "\n",
    "clicks_by_source = ad_clicks.groupby(['utm_source', 'is_click']).user_id.count().reset_index()"
   ]
  },
  {
   "cell_type": "markdown",
   "id": "9322170e-45a5-43fe-92b4-b90e9afedecc",
   "metadata": {},
   "source": [
    "##### Now I want to pivot the data so that the columns are is_click (either True or False), the index is utm_source, and the values are user_id:"
   ]
  },
  {
   "cell_type": "code",
   "execution_count": null,
   "id": "aba0440c-00db-4169-a050-91228b76e9ae",
   "metadata": {},
   "outputs": [],
   "source": [
    "# I save my results to the variable clicks_pivot\n",
    "\n",
    "clicks_pivot = clicks_by_source.pivot(\n",
    "  columns='is_click',\n",
    "  index='utm_source',\n",
    "  values='user_id'\n",
    ").reset_index()"
   ]
  },
  {
   "cell_type": "markdown",
   "id": "f650fb35-6b0e-4000-8d63-a052cbb4ef80",
   "metadata": {},
   "source": [
    "##### After I want to create a new column in clicks_pivot called percent_clicked which is equal to the percent of users who clicked on the ad from each utm_source:"
   ]
  },
  {
   "cell_type": "code",
   "execution_count": null,
   "id": "7aeb2e06-f5d9-42bc-bfc7-bf147edc5ba8",
   "metadata": {},
   "outputs": [],
   "source": [
    "clicks_pivot['percent_clicked'] = clicks_pivot[True] / (clicks_pivot[False] + clicks_pivot[True])"
   ]
  },
  {
   "cell_type": "markdown",
   "id": "9fa2c913-616e-4e31-89fb-b26b6210b090",
   "metadata": {},
   "source": [
    "#### Analyzing an A/B test"
   ]
  },
  {
   "cell_type": "markdown",
   "id": "8398c277-0cc7-4bf2-bf6b-467a45d02e6f",
   "metadata": {},
   "source": [
    "##### Were approximately the same number of people shown both ads?"
   ]
  },
  {
   "cell_type": "code",
   "execution_count": null,
   "id": "2b9f4ff3-73a0-41fb-a24f-4551b71fa6ce",
   "metadata": {},
   "outputs": [],
   "source": [
    "# To answer this question I use the column experimental_group that tells me whether the user was shown \n",
    "# ad A or ad B\n",
    "\n",
    "print(ad_clicks.groupby('experimental_group').user_id.count().reset_index())"
   ]
  },
  {
   "cell_type": "markdown",
   "id": "d7937f80-9b65-48f5-90a1-f5ca78ac27da",
   "metadata": {},
   "source": [
    "##### Now I use the column is_click that I defined earlier, to see if a greater percentage of users clicked on ad A or ad B:"
   ]
  },
  {
   "cell_type": "code",
   "execution_count": null,
   "id": "81ad6ded-3fe4-4e28-8484-eb0f0d7b018e",
   "metadata": {},
   "outputs": [],
   "source": [
    "print(ad_clicks.groupby(['experimental_group', 'is_click']).user_id.count().reset_index().pivot(\n",
    "  index = 'experimental_group', \n",
    "  columns = 'is_click', \n",
    "  values = 'user_id').reset_index())"
   ]
  },
  {
   "cell_type": "markdown",
   "id": "a03d35f9-0995-43b3-9075-801e418903bb",
   "metadata": {},
   "source": [
    "##### After I want to check if the A/B test clicks might have changed by day of the week:"
   ]
  },
  {
   "cell_type": "code",
   "execution_count": null,
   "id": "ba507067-760e-437f-b8d6-55451d240b1c",
   "metadata": {},
   "outputs": [],
   "source": [
    "# I start by creating two DataFrames: a_clicks and b_clicks\n",
    "\n",
    "a_clicks = ad_clicks[ad_clicks.experimental_group == 'A']\n",
    "\n",
    "b_clicks = ad_clicks[ad_clicks.experimental_group == 'B']\n",
    "\n",
    "# For each group, I calculate the percent of users who clicked on the ad by day\n",
    "\n",
    "a_clicks_pivot = a_clicks.groupby(['is_click', 'day']).user_id.count().reset_index().pivot(\n",
    "  index = 'day',\n",
    "  columns = 'is_click',\n",
    "  values = 'user_id'\n",
    ").reset_index()\n",
    "\n",
    "a_clicks_pivot['percent_clicked'] = a_clicks_pivot[True] / (a_clicks_pivot[True] + a_clicks_pivot[False])\n",
    "\n",
    "print(a_clicks_pivot)\n",
    "\n",
    "b_clicks_pivot = b_clicks.groupby(['is_click', 'day']).user_id.count().reset_index().pivot(\n",
    "  index = 'day',\n",
    "  columns = 'is_click',\n",
    "  values = 'user_id'\n",
    ").reset_index()\n",
    "\n",
    "b_clicks_pivot['percent_clicked'] = b_clicks_pivot[True] / (b_clicks_pivot[True] + b_clicks_pivot[False])"
   ]
  }
 ],
 "metadata": {
  "kernelspec": {
   "display_name": "Python 3 (ipykernel)",
   "language": "python",
   "name": "python3"
  },
  "language_info": {
   "codemirror_mode": {
    "name": "ipython",
    "version": 3
   },
   "file_extension": ".py",
   "mimetype": "text/x-python",
   "name": "python",
   "nbconvert_exporter": "python",
   "pygments_lexer": "ipython3",
   "version": "3.12.4"
  }
 },
 "nbformat": 4,
 "nbformat_minor": 5
}
