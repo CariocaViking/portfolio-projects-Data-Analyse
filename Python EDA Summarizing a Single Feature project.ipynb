{
 "cells": [
  {
   "cell_type": "markdown",
   "id": "9fc51940-ecd4-446a-90c7-9a75ac657a38",
   "metadata": {},
   "source": [
    "# Exploring Student Data"
   ]
  },
  {
   "cell_type": "markdown",
   "id": "e8cfdd9a-9113-4cc0-a04f-beac9fc161be",
   "metadata": {},
   "source": [
    "#### Initial exploration"
   ]
  },
  {
   "cell_type": "code",
   "execution_count": null,
   "id": "57358136-8a9e-42f6-8731-91a3db6554bd",
   "metadata": {},
   "outputs": [],
   "source": [
    "# Load libraries\n",
    "import pandas as pd\n",
    "import numpy as np\n",
    "import matplotlib.pyplot as plt\n",
    "import seaborn as sns\n",
    "\n",
    "# Import data\n",
    "students = pd.read_csv('students.csv')\n",
    "\n",
    "# Print first few rows of data\n",
    "print(students.head(10))\n",
    "\n",
    "# Print summary statistics for all columns\n",
    "print(students.describe(include='all'))"
   ]
  },
  {
   "cell_type": "markdown",
   "id": "5e75a4f9-0906-4ef9-a585-f17dabac23f6",
   "metadata": {},
   "source": [
    "#### Summarize a typical student grade"
   ]
  },
  {
   "cell_type": "code",
   "execution_count": null,
   "id": "d9686408-5231-4ca0-9a1b-81b6f0ab39bf",
   "metadata": {},
   "outputs": [],
   "source": [
    "# Calculate mean\n",
    "print(students.math_grade.mean())\n",
    "\n",
    "# Calculate median\n",
    "print(students.math_grade.median())\n",
    "\n",
    "# Calculate mode\n",
    "print(students.math_grade.mode()[0])"
   ]
  },
  {
   "cell_type": "markdown",
   "id": "3adb9e9f-735e-476b-b0b1-f5ac5ed490dd",
   "metadata": {},
   "source": [
    "#### Summarize the spread of student grades"
   ]
  },
  {
   "cell_type": "code",
   "execution_count": null,
   "id": "57251e2a-c290-401f-89fa-c21166278255",
   "metadata": {},
   "outputs": [],
   "source": [
    "# Calculate range\n",
    "print(students.math_grade.max() - students.math_grade.min())\n",
    "\n",
    "# Calculate standard deviation\n",
    "print(students.math_grade.std())\n",
    "\n",
    "# Calculate MAD\n",
    "print(students.math_grade.mad())"
   ]
  },
  {
   "cell_type": "markdown",
   "id": "4a25d268-0b9f-44b1-9398-a3da55542293",
   "metadata": {},
   "source": [
    "#### Visualize the distribution of student grades"
   ]
  },
  {
   "cell_type": "code",
   "execution_count": null,
   "id": "07e668ac-fa47-4c1e-b07c-6c9f5880a8ed",
   "metadata": {},
   "outputs": [],
   "source": [
    "# Create a histogram of math grades\n",
    "sns.histplot(x='math_grade', data=students)\n",
    "plt.show()\n",
    "plt.clf()\n",
    "\n",
    "# Create a box plot of math grades\n",
    "sns.boxplot(x='math_grade', data=students)\n",
    "plt.show()\n",
    "plt.clf()"
   ]
  },
  {
   "cell_type": "markdown",
   "id": "dd5fc45b-bda0-4bee-a6e5-8636c8f1bf08",
   "metadata": {},
   "source": [
    "#### Summarize mothers' jobs"
   ]
  },
  {
   "cell_type": "code",
   "execution_count": null,
   "id": "711e1096-fdce-4916-9b76-6bdb982f1312",
   "metadata": {},
   "outputs": [],
   "source": [
    "# Calculate number of students with mothers in each job category\n",
    "print(students.Mjob.value_counts())\n",
    "\n",
    "# Calculate proportion of students with mothers in each job category\n",
    "print(students.Mjob.value_counts(normalize=True))"
   ]
  },
  {
   "cell_type": "markdown",
   "id": "5dd7a77e-15c4-4c5c-9b78-9128965a52b0",
   "metadata": {},
   "source": [
    "#### Visualize the distribution of mothers' jobs"
   ]
  },
  {
   "cell_type": "code",
   "execution_count": null,
   "id": "30313489-4cef-4635-84f4-cecc1a85c8a4",
   "metadata": {},
   "outputs": [],
   "source": [
    "# Create bar chart of Mjob\n",
    "sns.countplot(x='Mjob', data=students)\n",
    "plt.show()\n",
    "plt.clf()\n",
    "\n",
    "# Create pie chart of Mjob\n",
    "students.Mjob.value_counts().plot.pie()\n",
    "plt.show()\n",
    "plt.close()"
   ]
  }
 ],
 "metadata": {
  "kernelspec": {
   "display_name": "Python 3 (ipykernel)",
   "language": "python",
   "name": "python3"
  },
  "language_info": {
   "codemirror_mode": {
    "name": "ipython",
    "version": 3
   },
   "file_extension": ".py",
   "mimetype": "text/x-python",
   "name": "python",
   "nbconvert_exporter": "python",
   "pygments_lexer": "ipython3",
   "version": "3.12.4"
  }
 },
 "nbformat": 4,
 "nbformat_minor": 5
}
