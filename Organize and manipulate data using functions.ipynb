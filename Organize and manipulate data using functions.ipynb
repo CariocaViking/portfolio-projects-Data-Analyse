{
 "cells": [
  {
   "cell_type": "markdown",
   "id": "58875e7a",
   "metadata": {},
   "source": [
    "# Hurricane Analysis"
   ]
  },
  {
   "cell_type": "markdown",
   "id": "9a2d9627",
   "metadata": {},
   "source": [
    "#### Overview"
   ]
  },
  {
   "cell_type": "markdown",
   "id": "633e5dde",
   "metadata": {},
   "source": [
    "This project is slightly different than others you have encountered thus far. Instead of a step-by-step tutorial, this project contains a series of open-ended requirements which describe the project you'll be building. There are many possible ways to correctly fulfill all of these requirements, and you should expect to use the internet, Codecademy, and other resources when you encounter a problem that you cannot easily solve."
   ]
  },
  {
   "cell_type": "markdown",
   "id": "52f01f07",
   "metadata": {},
   "source": [
    "#### Project Goals"
   ]
  },
  {
   "cell_type": "markdown",
   "id": "d9d06c43",
   "metadata": {},
   "source": [
    "You will work to write several functions that organize and manipulate data about Category 5 Hurricanes, the strongest hurricanes as rated by their wind speed. Each one of these functions will use a number of parameters, conditionals, lists, dictionaries, string manipulation, and return statements."
   ]
  },
  {
   "cell_type": "markdown",
   "id": "7fbb9fb5",
   "metadata": {},
   "source": [
    "#### Prerequisites"
   ]
  },
  {
   "cell_type": "markdown",
   "id": "4732a1e8",
   "metadata": {},
   "source": [
    "In order to complete this project, you should have completed the Loops and Dictionaries sections of the [Learn Python 3 Course](https://www.codecademy.com/learn/learn-python-3). This content is also covered in the [Data Scientist Career Path](https://www.codecademy.com/learn/paths/data-science/)."
   ]
  },
  {
   "cell_type": "markdown",
   "id": "1e924903",
   "metadata": {},
   "source": [
    "## Project Requirements"
   ]
  },
  {
   "cell_type": "markdown",
   "id": "35d6f74d",
   "metadata": {},
   "source": [
    "1. Hurricanes, also known as cyclones or typhoons, are one of the most powerful forces of nature on Earth. Due to climate change caused by human activity, the number and intensity of hurricanes has risen, calling for better preparation by the many communities that are devastated by them. As a concerned environmentalist, you want to look at data about the most powerful hurricanes that have occured. \n",
    "\n",
    "   Begin by looking at the `damages` list. The list contains strings representing the total cost in USD(`$`) caused by `34` category 5 hurricanes (wind speeds $\\ge$ 157 mph (252 km/h)) in the Atlantic region. For some of the hurricanes, damage data was not recorded (`\"Damages not recorded\"`), while the rest are written in the format `\"Prefix-B/M\"`, where `B` stands for billions (`1000000000`) and `M` stands for millions (`1000000`).\n",
    "   \n",
    "   Write a function that returns a new list of updated damages where the recorded data is converted to float values and the missing data is retained as `\"Damages not recorded\"`.\n",
    "   \n",
    "   Test your function with the data stored in `damages`."
   ]
  },
  {
   "cell_type": "code",
   "execution_count": 106,
   "id": "d8d3c50b",
   "metadata": {},
   "outputs": [
    {
     "name": "stdout",
     "output_type": "stream",
     "text": [
      "['Damages not recorded', 100000000.0, 'Damages not recorded', 40000000.0, 27900000.0, 5000000.0, 'Damages not recorded', 306000000.0, 2000000.0, 65800000.0, 326000000.0, 60300000.0, 208000000.0, 1420000000.0, 25400000.0, 'Damages not recorded', 1540000000.0, 1240000000.0, 7100000000.0, 10000000000.0, 26500000000.0, 6200000000.0, 5370000000.0, 23300000000.0, 1010000000.0, 125000000000.0, 12000000000.0, 29400000000.0, 1760000000.0, 720000000.0, 15100000000.0, 64800000000.0, 91600000000.0, 25100000000.0]\n"
     ]
    }
   ],
   "source": [
    "# damages (USD($)) of hurricanes\n",
    "damages = ['Damages not recorded', '100M', 'Damages not recorded', '40M',\n",
    "          '27.9M', '5M', 'Damages not recorded', '306M', '2M', '65.8M',\n",
    "          '326M', '60.3M', '208M', '1.42B', '25.4M', 'Damages not recorded',\n",
    "          '1.54B', '1.24B', '7.1B', '10B', '26.5B', '6.2B', '5.37B', '23.3B',\n",
    "          '1.01B', '125B', '12B', '29.4B', '1.76B', '720M', '15.1B', '64.8B',\n",
    "          '91.6B', '25.1B']\n",
    "\n",
    "# 1\n",
    "# Update Recorded Damages\n",
    "conversion = {\"M\": 1000000,\n",
    "             \"B\": 1000000000}\n",
    "\n",
    "def update_damages(damages):\n",
    "\n",
    "  updated_damages = []\n",
    "  for damage in damages:\n",
    "    if damage == \"Damages not recorded\":\n",
    "      updated_damages.append(\"Damages not recorded\")\n",
    "    else:\n",
    "      try:\n",
    "        if damage.endswith('M'):\n",
    "          updated_damages.append(float(damage[:-1]) * 1000000)\n",
    "        elif damage.endswith('B'):\n",
    "          updated_damages.append(float(damage[:-1]) * 1000000000)\n",
    "        else:\n",
    "          updated_damages.append(float(damage))\n",
    "      except ValueError:\n",
    "        updated_damages.append(\"Invalid damage value\")\n",
    "\n",
    "  return updated_damages\n",
    "\n",
    "# test function by updating damages\n",
    "updated_damages = update_damages(damages)\n",
    "print(updated_damages)"
   ]
  },
  {
   "cell_type": "markdown",
   "id": "36ac47b6",
   "metadata": {},
   "source": [
    "2. Additional data collected on the `34` strongest Atlantic hurricanes are provided in a series of lists. The data includes:\n",
    "   - `names`: names of the hurricanes\n",
    "   - `months`: months in which the hurricanes occurred\n",
    "   - `years`: years in which the hurricanes occurred\n",
    "   - `max_sustained_winds`: maximum sustained winds (miles per hour) of the hurricanes\n",
    "   - `areas_affected`: list of different areas affected by each of the hurricanes\n",
    "   - `deaths`: total number of deaths caused by each of the hurricanes\n",
    "   \n",
    "   The data is organized such that the data at each index, from `0` to `33`, corresponds to the same hurricane.\n",
    "   \n",
    "   For example, `names[0]` yields the \"Cuba I\" hurricane, which occurred in `months[0]` (October) `years[0]` (1924).\n",
    "   \n",
    "   Write a function that constructs a dictionary made out of the lists, where the keys of the dictionary are the names of the hurricanes, and the values are dictionaries themselves containing a key for each piece of data (`Name`, `Month`, `Year`, `Max Sustained Wind`, `Areas Affected`, `Damage`, `Death`) about the hurricane.\n",
    "   \n",
    "   Thus the key `\"Cuba I\"` would have the value: `{'Name': 'Cuba I', 'Month': 'October', 'Year': 1924, 'Max Sustained Wind': 165, 'Areas Affected': ['Central America', 'Mexico', 'Cuba', 'Florida', 'The Bahamas'], 'Damage': 'Damages not recorded', 'Deaths': 90}`.\n",
    "   \n",
    "   Test your function on the lists of data provided."
   ]
  },
  {
   "cell_type": "code",
   "execution_count": 11,
   "id": "641aa113",
   "metadata": {},
   "outputs": [],
   "source": [
    "# names of hurricanes\n",
    "names = ['Cuba I', 'San Felipe II Okeechobee', 'Bahamas', 'Cuba II', 'CubaBrownsville', 'Tampico', 'Labor Day', 'New England', 'Carol', 'Janet', 'Carla', 'Hattie', 'Beulah', 'Camille', 'Edith', 'Anita', 'David', 'Allen', 'Gilbert', 'Hugo', 'Andrew', 'Mitch', 'Isabel', 'Ivan', 'Emily', 'Katrina', 'Rita', 'Wilma', 'Dean', 'Felix', 'Matthew', 'Irma', 'Maria', 'Michael']\n",
    "\n",
    "# months of hurricanes\n",
    "months = ['October', 'September', 'September', 'November', 'August', 'September', 'September', 'September', 'September', 'September', 'September', 'October', 'September', 'August', 'September', 'September', 'August', 'August', 'September', 'September', 'August', 'October', 'September', 'September', 'July', 'August', 'September', 'October', 'August', 'September', 'October', 'September', 'September', 'October']\n",
    "\n",
    "# years of hurricanes\n",
    "years = [1924, 1928, 1932, 1932, 1933, 1933, 1935, 1938, 1953, 1955, 1961, 1961, 1967, 1969, 1971, 1977, 1979, 1980, 1988, 1989, 1992, 1998, 2003, 2004, 2005, 2005, 2005, 2005, 2007, 2007, 2016, 2017, 2017, 2018]\n",
    "\n",
    "# maximum sustained winds (mph) of hurricanes\n",
    "max_sustained_winds = [165, 160, 160, 175, 160, 160, 185, 160, 160, 175, 175, 160, 160, 175, 160, 175, 175, 190, 185, 160, 175, 180, 165, 165, 160, 175, 180, 185, 175, 175, 165, 180, 175, 160]\n",
    "\n",
    "# areas affected by each hurricane\n",
    "areas_affected = [['Central America', 'Mexico', 'Cuba', 'Florida', 'The Bahamas'], ['Lesser Antilles', 'The Bahamas', 'United States East Coast', 'Atlantic Canada'], ['The Bahamas', 'Northeastern United States'], ['Lesser Antilles', 'Jamaica', 'Cayman Islands', 'Cuba', 'The Bahamas', 'Bermuda'], ['The Bahamas', 'Cuba', 'Florida', 'Texas', 'Tamaulipas'], ['Jamaica', 'Yucatn Peninsula'], ['The Bahamas', 'Florida', 'Georgia', 'The Carolinas', 'Virginia'], ['Southeastern United States', 'Northeastern United States', 'Southwestern Quebec'], ['Bermuda', 'New England', 'Atlantic Canada'], ['Lesser Antilles', 'Central America'], ['Texas', 'Louisiana', 'Midwestern United States'], ['Central America'], ['The Caribbean', 'Mexico', 'Texas'], ['Cuba', 'United States Gulf Coast'], ['The Caribbean', 'Central America', 'Mexico', 'United States Gulf Coast'], ['Mexico'], ['The Caribbean', 'United States East coast'], ['The Caribbean', 'Yucatn Peninsula', 'Mexico', 'South Texas'], ['Jamaica', 'Venezuela', 'Central America', 'Hispaniola', 'Mexico'], ['The Caribbean', 'United States East Coast'], ['The Bahamas', 'Florida', 'United States Gulf Coast'], ['Central America', 'Yucatn Peninsula', 'South Florida'], ['Greater Antilles', 'Bahamas', 'Eastern United States', 'Ontario'], ['The Caribbean', 'Venezuela', 'United States Gulf Coast'], ['Windward Islands', 'Jamaica', 'Mexico', 'Texas'], ['Bahamas', 'United States Gulf Coast'], ['Cuba', 'United States Gulf Coast'], ['Greater Antilles', 'Central America', 'Florida'], ['The Caribbean', 'Central America'], ['Nicaragua', 'Honduras'], ['Antilles', 'Venezuela', 'Colombia', 'United States East Coast', 'Atlantic Canada'], ['Cape Verde', 'The Caribbean', 'British Virgin Islands', 'U.S. Virgin Islands', 'Cuba', 'Florida'], ['Lesser Antilles', 'Virgin Islands', 'Puerto Rico', 'Dominican Republic', 'Turks and Caicos Islands'], ['Central America', 'United States Gulf Coast (especially Florida Panhandle)']]\n",
    "\n",
    "# damages (USD($)) of hurricanes\n",
    "damages = ['Damages not recorded', '100M', 'Damages not recorded', '40M', '27.9M', '5M', 'Damages not recorded', '306M', '2M', '65.8M', '326M', '60.3M', '208M', '1.42B', '25.4M', 'Damages not recorded', '1.54B', '1.24B', '7.1B', '10B', '26.5B', '6.2B', '5.37B', '23.3B', '1.01B', '125B', '12B', '29.4B', '1.76B', '720M', '15.1B', '64.8B', '91.6B', '25.1B']\n",
    "\n",
    "# deaths for each hurricane\n",
    "deaths = [90,4000,16,3103,179,184,408,682,5,1023,43,319,688,259,37,11,2068,269,318,107,65,19325,51,124,17,1836,125,87,45,133,603,138,3057,74]\n",
    "\n",
    "# 2\n",
    "def create_hurricane_dict(names, months, years, max_sustained_winds, areas_affected, damages, deaths):\n",
    "\n",
    "    hurricane_dict = {}\n",
    "    for i in range(len(names)):\n",
    "        hurricane_dict[names[i]] = {\n",
    "            'Name': names[i],\n",
    "            'Month': months[i],\n",
    "            'Year': years[i],\n",
    "            'Max Sustained Wind': max_sustained_winds[i],\n",
    "            'Areas Affected': areas_affected[i],\n",
    "            'Damage': damages[i],\n",
    "            'Deaths': deaths[i]\n",
    "        }\n",
    "    return hurricane_dict\n",
    "\n",
    "# Create hurricanes dictionary\n",
    "hurricane_dict = create_hurricane_dict(names, months, years, max_sustained_winds, areas_affected, damages, deaths)\n",
    "# print(hurricane_dict)"
   ]
  },
  {
   "cell_type": "markdown",
   "id": "6d0a1933",
   "metadata": {},
   "source": [
    "3. In addition to organizing the hurricanes in a dictionary with names as the key, you want to be able to organize the hurricanes by year.\n",
    "\n",
    "   Write a function that converts the current dictionary of hurricanes to a new dictionary, where the keys are years and the values are lists containing a dictionary for each hurricane that occurred in that year.\n",
    "   \n",
    "   For example, the key `1932` would yield the value: `[{'Name': 'Bahamas', 'Month': 'September', 'Year': 1932, 'Max Sustained Wind': 160, 'Areas Affected': ['The Bahamas', 'Northeastern United States'], 'Damage': 'Damage not recorded', 'Deaths': 16}, {'Name': 'Cuba II', 'Month': 'November', 'Year': 1932, 'Max Sustained Wind': 175, 'Areas Affected': ['Lesser Antilles', 'Jamaica', 'Cayman Islands', 'Cuba', 'The Bahamas', 'Bermuda'], 'Damage': 40000000.0, 'Deaths': 3103}]`.\n",
    "   \n",
    "   Test your function on your hurricane dictionary."
   ]
  },
  {
   "cell_type": "code",
   "execution_count": 108,
   "id": "1ef2edea",
   "metadata": {},
   "outputs": [
    {
     "name": "stdout",
     "output_type": "stream",
     "text": [
      "[{'Name': 'Bahamas', 'Month': 'September', 'Year': 1932, 'Max Sustained Wind': 160, 'Areas Affected': ['The Bahamas', 'Northeastern United States'], 'Damage': 'Damages not recorded', 'Deaths': 16}, {'Name': 'Cuba II', 'Month': 'November', 'Year': 1932, 'Max Sustained Wind': 175, 'Areas Affected': ['Lesser Antilles', 'Jamaica', 'Cayman Islands', 'Cuba', 'The Bahamas', 'Bermuda'], 'Damage': '40M', 'Deaths': 3103}]\n"
     ]
    }
   ],
   "source": [
    "# 3\n",
    "# Organizing by Year\n",
    "def organize_by_year(hurricane_dict):\n",
    "    \n",
    "  hurricanes_by_year = {}\n",
    "  for hurricane_name, hurricane_info in hurricane_dict.items():\n",
    "    year = hurricane_info['Year']\n",
    "    if year not in hurricanes_by_year:\n",
    "      hurricanes_by_year[year] = []\n",
    "    hurricanes_by_year[year].append(hurricane_info)\n",
    "  return hurricanes_by_year\n",
    "\n",
    "# create a new dictionary of hurricanes with year and key\n",
    "hurricanes_by_year = organize_by_year(hurricane_dict)\n",
    "print(hurricanes_by_year[1932])"
   ]
  },
  {
   "cell_type": "markdown",
   "id": "66973f77",
   "metadata": {},
   "source": [
    "4. You believe that knowing how often each of the areas of the Atlantic are affected by these strong hurricanes is important for making preparations for future hurricanes.\n",
    "\n",
    "   Write a function that counts how often each area is listed as an affected area of a hurricane. Store and return the results in a dictionary where the keys are the affected areas and the values are counts of how many times the areas were affected.\n",
    "   \n",
    "   Test your function on your hurricane dictionary."
   ]
  },
  {
   "cell_type": "code",
   "execution_count": 110,
   "id": "bff86f77",
   "metadata": {},
   "outputs": [
    {
     "name": "stdout",
     "output_type": "stream",
     "text": [
      "{'Central America': 9, 'Mexico': 7, 'Cuba': 6, 'Florida': 6, 'The Bahamas': 7, 'Lesser Antilles': 4, 'United States East Coast': 3, 'Atlantic Canada': 3, 'Northeastern United States': 2, 'Jamaica': 4, 'Cayman Islands': 1, 'Bermuda': 2, 'Texas': 4, 'Tamaulipas': 1, 'Yucatn Peninsula': 3, 'Georgia': 1, 'The Carolinas': 1, 'Virginia': 1, 'Southeastern United States': 1, 'Southwestern Quebec': 1, 'New England': 1, 'Louisiana': 1, 'Midwestern United States': 1, 'The Caribbean': 8, 'United States Gulf Coast': 6, 'United States East coast': 1, 'South Texas': 1, 'Venezuela': 3, 'Hispaniola': 1, 'South Florida': 1, 'Greater Antilles': 2, 'Bahamas': 2, 'Eastern United States': 1, 'Ontario': 1, 'Windward Islands': 1, 'Nicaragua': 1, 'Honduras': 1, 'Antilles': 1, 'Colombia': 1, 'Cape Verde': 1, 'British Virgin Islands': 1, 'U.S. Virgin Islands': 1, 'Virgin Islands': 1, 'Puerto Rico': 1, 'Dominican Republic': 1, 'Turks and Caicos Islands': 1, 'United States Gulf Coast (especially Florida Panhandle)': 1}\n"
     ]
    }
   ],
   "source": [
    "# 4\n",
    "# Counting Damaged Areas\n",
    "def count_affected_areas(hurricane_dict):\n",
    "\n",
    "  area_counts = {}\n",
    "  for hurricane in hurricane_dict.values():\n",
    "    for area in hurricane['Areas Affected']:\n",
    "      if area in area_counts:\n",
    "        area_counts[area] += 1\n",
    "      else:\n",
    "        area_counts[area] = 1\n",
    "  return area_counts\n",
    "\n",
    "# create dictionary of areas to store the number of hurricanes involved in\n",
    "area_counts = count_affected_areas(hurricane_dict)\n",
    "print(area_counts)"
   ]
  },
  {
   "cell_type": "markdown",
   "id": "e015eeb3",
   "metadata": {},
   "source": [
    "5. Write a function that finds the area affected by the most hurricanes, and how often it was hit.\n",
    "\n",
    "   Test your function on your affected area dictionary."
   ]
  },
  {
   "cell_type": "code",
   "execution_count": 112,
   "id": "643c73f9",
   "metadata": {},
   "outputs": [
    {
     "name": "stdout",
     "output_type": "stream",
     "text": [
      "The most affected area is Central America with 9 occurrences.\n"
     ]
    }
   ],
   "source": [
    "# 5\n",
    "# Calculating Maximum Hurricane Count\n",
    "def most_affected_area(area_counts):\n",
    "\n",
    "  most_affected = max(area_counts, key=area_counts.get)\n",
    "  max_count = area_counts[most_affected]\n",
    "  return most_affected, max_count\n",
    "# find most frequently affected area and the number of hurricanes involved in\n",
    "most_affected_area, count = most_affected_area(area_counts)\n",
    "print(f\"The most affected area is {most_affected_area} with {count} occurrences.\")"
   ]
  },
  {
   "cell_type": "markdown",
   "id": "4c120f59",
   "metadata": {},
   "source": [
    "6. Write a function that finds the hurricane that caused the greatest number of deaths, and how many deaths it caused.\n",
    "\n",
    "   Test your function on your hurricane dictionary."
   ]
  },
  {
   "cell_type": "code",
   "execution_count": 114,
   "id": "ced02448",
   "metadata": {},
   "outputs": [
    {
     "name": "stdout",
     "output_type": "stream",
     "text": [
      "The deadliest hurricane is Mitch with 19325 deaths.\n"
     ]
    }
   ],
   "source": [
    "# 6\n",
    "# Calculating the Deadliest Hurricane\n",
    "def deadliest_hurricane(hurricane_dict):\n",
    "\n",
    "  deadliest_hurricane_name = \"\"\n",
    "  max_deaths = 0\n",
    "  for hurricane_name, hurricane_info in hurricane_dict.items():\n",
    "    deaths = hurricane_info['Deaths']\n",
    "    if deaths > max_deaths:\n",
    "      max_deaths = deaths\n",
    "      deadliest_hurricane_name = hurricane_name\n",
    "  return deadliest_hurricane_name, max_deaths\n",
    "    \n",
    "# find highest mortality hurricane and the number of deaths\n",
    "deadliest_hurricane, count = deadliest_hurricane(hurricane_dict)\n",
    "print(f\"The deadliest hurricane is {deadliest_hurricane} with {count} deaths.\")"
   ]
  },
  {
   "cell_type": "markdown",
   "id": "9ddd39b0",
   "metadata": {},
   "source": [
    "7. Just as hurricanes are rated by their windspeed, you want to try rating hurricanes based on other metrics.\n",
    "\n",
    "   Write a function that rates hurricanes on a mortality scale according to the following ratings, where the key is the rating and the value is the upper bound of deaths for that rating.\n",
    "   \n",
    "   ```py\n",
    "   mortality_scale = {0: 0,\n",
    "   1: 100,\n",
    "   2: 500,\n",
    "   3: 1000,\n",
    "   4: 10000}\n",
    "   ```\n",
    "   \n",
    "   For example, a hurricane with a `1` mortality rating would have resulted in greater than `0` but less than or equal to `100` deaths. A hurricane with a `5` mortality would have resulted in greater than `10000` deaths.\n",
    "   \n",
    "   Store the hurricanes in a new dictionary where the keys are the mortaility ratings and the values are lists containing a dictionary for each hurricane that falls into that mortality rating.\n",
    "   \n",
    "   Test your function on your hurricane dictionary."
   ]
  },
  {
   "cell_type": "code",
   "execution_count": 116,
   "id": "9eea4dc7",
   "metadata": {},
   "outputs": [
    {
     "name": "stdout",
     "output_type": "stream",
     "text": [
      "Mortality Rating 1:\n",
      "- Cuba I: 90 deaths\n",
      "- Bahamas: 16 deaths\n",
      "- Carol: 5 deaths\n",
      "- Carla: 43 deaths\n",
      "- Edith: 37 deaths\n",
      "- Anita: 11 deaths\n",
      "- Andrew: 65 deaths\n",
      "- Isabel: 51 deaths\n",
      "- Emily: 17 deaths\n",
      "- Wilma: 87 deaths\n",
      "- Dean: 45 deaths\n",
      "- Michael: 74 deaths\n",
      "Mortality Rating 4:\n",
      "- San Felipe II Okeechobee: 4000 deaths\n",
      "- Cuba II: 3103 deaths\n",
      "- Janet: 1023 deaths\n",
      "- David: 2068 deaths\n",
      "- Katrina: 1836 deaths\n",
      "- Maria: 3057 deaths\n",
      "Mortality Rating 2:\n",
      "- CubaBrownsville: 179 deaths\n",
      "- Tampico: 184 deaths\n",
      "- Labor Day: 408 deaths\n",
      "- Hattie: 319 deaths\n",
      "- Camille: 259 deaths\n",
      "- Allen: 269 deaths\n",
      "- Gilbert: 318 deaths\n",
      "- Hugo: 107 deaths\n",
      "- Ivan: 124 deaths\n",
      "- Rita: 125 deaths\n",
      "- Felix: 133 deaths\n",
      "- Irma: 138 deaths\n",
      "Mortality Rating 3:\n",
      "- New England: 682 deaths\n",
      "- Beulah: 688 deaths\n",
      "- Matthew: 603 deaths\n"
     ]
    }
   ],
   "source": [
    "# 7\n",
    "# Rating Hurricanes by Mortality    \n",
    "mortality_scale = {0: 0,\n",
    "1: 100,\n",
    "2: 500,\n",
    "3: 1000,\n",
    "4: 10000}\n",
    "\n",
    "def rate_hurricanes_by_mortality(hurricane_dict, mortality_scale):\n",
    "\n",
    "  rated_hurricanes = {}\n",
    "  for hurricane_name, hurricane_info in hurricane_dict.items():\n",
    "    deaths = hurricane_info['Deaths']\n",
    "    for rating, upper_bound in mortality_scale.items():\n",
    "      if deaths <= upper_bound:\n",
    "        if rating not in rated_hurricanes:\n",
    "          rated_hurricanes[rating] = []\n",
    "        rated_hurricanes[rating].append(hurricane_info)\n",
    "        break\n",
    "  return rated_hurricanes\n",
    "    \n",
    "# categorize hurricanes in new dictionary with mortality severity as key\n",
    "rated_hurricanes = rate_hurricanes_by_mortality(hurricane_dict, mortality_scale)\n",
    "\n",
    "for rating, hurricanes in rated_hurricanes.items():\n",
    "  print(f\"Mortality Rating {rating}:\")\n",
    "  for hurricane in hurricanes:\n",
    "    print(f\"- {hurricane['Name']}: {hurricane['Deaths']} deaths\")"
   ]
  },
  {
   "cell_type": "markdown",
   "id": "199b0e1c",
   "metadata": {},
   "source": [
    "8. Write a function that finds the hurricane that caused the greatest damage, and how costly it was.\n",
    "\n",
    "   Test your function on your hurricane dictionary."
   ]
  },
  {
   "cell_type": "code",
   "execution_count": 118,
   "id": "b3dc79b4",
   "metadata": {},
   "outputs": [
    {
     "name": "stdout",
     "output_type": "stream",
     "text": [
      "The most damaging hurricane is Katrina with a damage cost of $125000000000.00\n"
     ]
    }
   ],
   "source": [
    "# 8\n",
    "# Calculating Hurricane Maximum Damage\n",
    "def most_damaging_hurricane(hurricane_dict):\n",
    "\n",
    "    most_damaging_hurricane_name = \"\"\n",
    "    max_damage = 0\n",
    "    for hurricane_name, hurricane_info in hurricane_dict.items():\n",
    "        damage = hurricane_info['Damage']\n",
    "        if damage != \"Damages not recorded\":\n",
    "            # Convert damage to a numeric value, handling 'M' and 'B' suffixes\n",
    "            if damage.endswith('M'):\n",
    "                damage_value = float(damage[:-1]) * 1000000\n",
    "            elif damage.endswith('B'):\n",
    "                damage_value = float(damage[:-1]) * 1000000000\n",
    "            else:\n",
    "                damage_value = float(damage)\n",
    "\n",
    "            if damage_value > max_damage:\n",
    "                max_damage = damage_value\n",
    "                most_damaging_hurricane_name = hurricane_name\n",
    "    return most_damaging_hurricane_name, max_damage\n",
    "    \n",
    "# find highest damage inducing hurricane and its total cost\n",
    "most_damaging_hurricane_name, max_damage = most_damaging_hurricane(hurricane_dict)\n",
    "print(f\"The most damaging hurricane is {most_damaging_hurricane_name} with a damage cost of ${max_damage:.2f}\")"
   ]
  },
  {
   "cell_type": "markdown",
   "id": "58d22ddc",
   "metadata": {},
   "source": [
    "9. Lastly, you want to rate hurricanes according to how much damage they cause.\n",
    "\n",
    "   Write a function that rates hurricanes on a damage scale according to the following ratings, where the key is the rating and the value is the upper bound of damage for that rating.\n",
    "   ```py\n",
    "   damage_scale = {0: 0,\n",
    "   1: 100000000,\n",
    "   2: 1000000000,\n",
    "   3: 10000000000,\n",
    "   4: 50000000000}\n",
    "   ```\n",
    "   \n",
    "   For example, a hurricane with a `1` damage rating would have resulted in damages greater than `0` USD but less than or equal to `100000000` USD. A hurricane with a `5` damage rating would have resulted in damages greater than `50000000000` USD (talk about a lot of money).\n",
    "   \n",
    "   Store the hurricanes in a new dictionary where the keys are damage ratings and the values are lists containing a dictionary for each hurricane that falls into that damage rating.\n",
    "   \n",
    "   Test your function on your hurricane dictionary."
   ]
  },
  {
   "cell_type": "code",
   "execution_count": 128,
   "id": "e543f487",
   "metadata": {},
   "outputs": [
    {
     "name": "stdout",
     "output_type": "stream",
     "text": [
      "Damage Rating 1:\n",
      "- San Felipe II Okeechobee: $100M\n",
      "- Cuba II: $40M\n",
      "- CubaBrownsville: $27.9M\n",
      "- Tampico: $5M\n",
      "- Carol: $2M\n",
      "- Janet: $65.8M\n",
      "- Hattie: $60.3M\n",
      "- Edith: $25.4M\n",
      "Damage Rating 2:\n",
      "- New England: $306M\n",
      "- Carla: $326M\n",
      "- Beulah: $208M\n",
      "- Felix: $720M\n",
      "Damage Rating 3:\n",
      "- Camille: $1.42B\n",
      "- David: $1.54B\n",
      "- Allen: $1.24B\n",
      "- Gilbert: $7.1B\n",
      "- Hugo: $10B\n",
      "- Mitch: $6.2B\n",
      "- Isabel: $5.37B\n",
      "- Emily: $1.01B\n",
      "- Dean: $1.76B\n",
      "Damage Rating 4:\n",
      "- Andrew: $26.5B\n",
      "- Ivan: $23.3B\n",
      "- Rita: $12B\n",
      "- Wilma: $29.4B\n",
      "- Matthew: $15.1B\n",
      "- Michael: $25.1B\n"
     ]
    }
   ],
   "source": [
    "# 9\n",
    "# Rating Hurricanes by Damage\n",
    "def rate_hurricanes_by_damage(hurricane_dict, damage_scale):\n",
    "\n",
    "    rated_hurricanes = {}\n",
    "    for hurricane_name, hurricane_info in hurricane_dict.items():\n",
    "        damage = hurricane_info['Damage']\n",
    "        if damage != \"Damages not recorded\":\n",
    "            # Convert damage to a numeric value, handling 'M' and 'B' suffixes\n",
    "            if damage.endswith('M'):\n",
    "                damage_value = float(damage[:-1]) * 1000000\n",
    "            elif damage.endswith('B'):\n",
    "                damage_value = float(damage[:-1]) * 1000000000\n",
    "            else:\n",
    "                damage_value = float(damage)\n",
    "\n",
    "            for rating, upper_bound in damage_scale.items():\n",
    "                if damage_value <= upper_bound:\n",
    "                    if rating not in rated_hurricanes:\n",
    "                        rated_hurricanes[rating] = []\n",
    "                    rated_hurricanes[rating].append(hurricane_info)\n",
    "                    break\n",
    "    return rated_hurricanes\n",
    "\n",
    "# categorize hurricanes in new dictionary with damage severity as key\n",
    "rated_hurricanes = rate_hurricanes_by_damage(hurricane_dict, damage_scale)\n",
    "\n",
    "for rating, hurricanes in rated_hurricanes.items():\n",
    "  print(f\"Damage Rating {rating}:\")\n",
    "  for hurricane in hurricanes:\n",
    "    print(f\"- {hurricane['Name']}: ${hurricane['Damage']}\")"
   ]
  }
 ],
 "metadata": {
  "kernelspec": {
   "display_name": "Python 3 (ipykernel)",
   "language": "python",
   "name": "python3"
  },
  "language_info": {
   "codemirror_mode": {
    "name": "ipython",
    "version": 3
   },
   "file_extension": ".py",
   "mimetype": "text/x-python",
   "name": "python",
   "nbconvert_exporter": "python",
   "pygments_lexer": "ipython3",
   "version": "3.12.4"
  },
  "vscode": {
   "interpreter": {
    "hash": "b784193cf0f9970b27f3c12f21dbff8ed97e3cf923dc23fe210654173bc3fdd0"
   }
  }
 },
 "nbformat": 4,
 "nbformat_minor": 5
}
