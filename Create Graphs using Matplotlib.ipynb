{
 "cells": [
  {
   "cell_type": "markdown",
   "id": "1349e0f3-7772-445e-a7a5-a8847451b851",
   "metadata": {},
   "source": [
    "# Create Graphs using Matplotlib!"
   ]
  },
  {
   "cell_type": "markdown",
   "id": "35c5aec0-380d-45b3-b3d0-bdbf1df15731",
   "metadata": {},
   "source": [
    "#### Bar Chart with Error"
   ]
  },
  {
   "cell_type": "code",
   "execution_count": null,
   "id": "8155ba20-6437-4a34-89a9-d323a28e23f3",
   "metadata": {},
   "outputs": [],
   "source": [
    "# import library\n",
    "from matplotlib import pyplot as plt\n",
    "\n",
    "# data lists\n",
    "past_years_averages = [82, 84, 83, 86, 74, 84, 90]\n",
    "years = [2000, 2001, 2002, 2003, 2004, 2005, 2006]\n",
    "error = [1.5, 2.1, 1.2, 3.2, 2.3, 1.7, 2.4]\n",
    "\n",
    "# make the chart\n",
    "plt.figure(figsize=(10, 8))\n",
    "plt.bar(range(len(past_years_averages)), past_years_averages, yerr=error, capsize=5)\n",
    "ax = plt.subplot()\n",
    "plt.axis([-0.5, 6.5, 70, 95])\n",
    "ax.set_xticks(range(len(years)))\n",
    "ax.set_xticklabels(years)\n",
    "plt.title('Final Exam Averages')\n",
    "plt.xlabel('Year')\n",
    "plt.ylabel('Test Average')\n",
    "\n",
    "plt.show()\n",
    "\n",
    "# save the chart\n",
    "plt.savefig('my_bar_chart.png')"
   ]
  },
  {
   "cell_type": "markdown",
   "id": "75a960ca-cefc-4553-ba27-d53017e0e89d",
   "metadata": {},
   "source": [
    "#### Side By Side Bars"
   ]
  },
  {
   "cell_type": "code",
   "execution_count": null,
   "id": "592da66f-dacc-4cfd-b926-38571054c0aa",
   "metadata": {},
   "outputs": [],
   "source": [
    "# import library\n",
    "from matplotlib import pyplot as plt\n",
    "\n",
    "# data lists\n",
    "unit_topics = ['Limits', 'Derivatives', 'Integrals', 'Diff Eq', 'Applications']\n",
    "middle_school_a = [80, 85, 84, 83, 86]\n",
    "middle_school_b = [73, 78, 77, 82, 86]\n",
    "\n",
    "# create the funtion\n",
    "def create_x(t, w, n, d):\n",
    "    return [t*x + w*n for x in range(d)]\n",
    "school_a_x = create_x(t = 2, w = 0.8, n = 1, d = 5)\n",
    "school_b_x = create_x(t = 2, w = 0.8, n = 2, d = 5)\n",
    "\n",
    "# make the chart\n",
    "plt.figure(figsize=(10, 8))\n",
    "ax = plt.subplot()\n",
    "plt.bar(school_a_x, middle_school_a)\n",
    "plt.bar(school_b_x, middle_school_b)\n",
    "middle_x = [ (a + b) / 2.0 for a, b in zip(school_a_x, school_b_x)]\n",
    "\n",
    "ax.set_xticks(middle_x)\n",
    "ax.set_xticklabels(unit_topics)\n",
    "plt.legend(['Middle School A', 'Middle School B'])\n",
    "plt.title('Test Averages on Different Units')\n",
    "plt.xlabel('Unit')\n",
    "plt.ylabel('Test Average')\n",
    "plt.axis(['Limits', 'Applications', 70.0, 90.0])\n",
    "\n",
    "plt.show()\n",
    "\n",
    "# save the chart\n",
    "plt.savefig('my_side_by_side.png')"
   ]
  },
  {
   "cell_type": "markdown",
   "id": "9b01313d-d5cb-48a6-8c63-d5c5f8c0a86c",
   "metadata": {},
   "source": [
    "#### Stacked Bars"
   ]
  },
  {
   "cell_type": "code",
   "execution_count": null,
   "id": "2db8f8d1-0631-41a0-91c9-6475baa259b9",
   "metadata": {},
   "outputs": [],
   "source": [
    "# import library\n",
    "from matplotlib import pyplot as plt\n",
    "import numpy as np\n",
    "\n",
    "# data lists\n",
    "unit_topics = ['Limits', 'Derivatives', 'Integrals', 'Diff Eq', 'Applications']\n",
    "As = [6, 3, 4, 3, 5]\n",
    "Bs = [8, 12, 8, 9, 10]\n",
    "Cs = [13, 12, 15, 13, 14]\n",
    "Ds = [2, 3, 3, 2, 1]\n",
    "Fs = [1, 0, 0, 3, 0]\n",
    "\n",
    "x = range(5)\n",
    "\n",
    "# defenition of order\n",
    "c_bottom = np.add(As, Bs)\n",
    "d_bottom = np.add(c_bottom, Cs)\n",
    "f_bottom = np.add(d_bottom, Ds)\n",
    "\n",
    "#create the plot\n",
    "plt.figure(figsize=(10, 8))\n",
    "plt.bar(x, As)\n",
    "plt.bar(x, Bs, bottom=As)\n",
    "plt.bar(x, Cs, bottom=c_bottom)\n",
    "plt.bar(x, Ds, bottom=d_bottom)\n",
    "plt.bar(x, Fs, bottom=f_bottom)\n",
    "ax = plt.subplot()\n",
    "ax.set_xticks(range(len(unit_topics)))\n",
    "ax.set_xticklabels(unit_topics)\n",
    "plt.title('Grade Distribution')\n",
    "plt.xlabel('Unit')\n",
    "plt.ylabel('Number of Students')\n",
    "\n",
    "plt.show()\n",
    "\n",
    "# save the chart\n",
    "plt.savefig('my_stacked_bar.png')"
   ]
  },
  {
   "cell_type": "markdown",
   "id": "d126567f-3ea2-4785-bb07-19b1ad1373c7",
   "metadata": {},
   "source": [
    "#### Two Histograms on a Plot"
   ]
  },
  {
   "cell_type": "code",
   "execution_count": null,
   "id": "0b369a65-d3a2-4ab5-8900-36dbb64055ec",
   "metadata": {},
   "outputs": [],
   "source": [
    "# import library\n",
    "from matplotlib import pyplot as plt\n",
    "\n",
    "# data lists\n",
    "exam_scores1 = [62.58, 67.63, 81.37, 52.53, 62.98, 72.15, 59.05, 73.85, 97.24, 76.81, 89.34, 74.44, 68.52, 85.13, 90.75, 70.29, 75.62, 85.38, 77.82, 98.31, 79.08, 61.72, 71.33, 80.77, 80.31, 78.16, 61.15, 64.99, 72.67, 78.94]\n",
    "exam_scores2 = [72.38, 71.28, 79.24, 83.86, 84.42, 79.38, 75.51, 76.63, 81.48,78.81,79.23,74.38,79.27,81.07,75.42,90.35,82.93,86.74,81.33,95.1,86.57,83.66,85.58,81.87,92.14,72.15,91.64,74.21,89.04,76.54,81.9,96.5,80.05,74.77,72.26,73.23,92.6,66.22,70.09,77.2]\n",
    "\n",
    "# Make the plot\n",
    "plt.figure(figsize=(10,8))\n",
    "plt.hist(exam_scores1, bins=12, density=True, histtype = 'step', linewidth=2)\n",
    "plt.hist(exam_scores2, density=True, bins=12, histtype = 'step', linewidth=2)\n",
    "\n",
    "plt.legend(['1st Yr Teaching', '2nd Yr Teaching'])\n",
    "\n",
    "plt.title('Final Exam Score Distribution')\n",
    "plt.xlabel('Percentage')\n",
    "plt.ylabel('Frequency')\n",
    "\n",
    "plt.show()\n",
    "\n",
    "# save the chart\n",
    "plt.savefig('my_histogram.png')"
   ]
  },
  {
   "cell_type": "markdown",
   "id": "314d3a09-7f0e-4acc-9211-68f0f0af1587",
   "metadata": {},
   "source": [
    "#### Labeled Pie Chart"
   ]
  },
  {
   "cell_type": "code",
   "execution_count": null,
   "id": "f51d5b9b-206c-4057-8c63-92db4cf60564",
   "metadata": {},
   "outputs": [],
   "source": [
    "# import library\n",
    "from matplotlib import pyplot as plt\n",
    "\n",
    "# data lists\n",
    "unit_topics = ['Limits', 'Derivatives', 'Integrals', 'Diff Eq', 'Applications']\n",
    "num_hardest_reported = [1, 3, 10, 15, 1]\n",
    "\n",
    "#Make the plot\n",
    "plt.figure(figsize=(10,8))\n",
    "plt.pie(num_hardest_reported, labels=unit_topics, autopct='%1d%%')\n",
    "\n",
    "plt.axis('equal')\n",
    "plt.title(\"Hardest Topics\")\n",
    "\n",
    "plt.show()\n",
    "\n",
    "# save the chart\n",
    "plt.savefig('my_pie_chart.png')"
   ]
  },
  {
   "cell_type": "markdown",
   "id": "dc07a5f3-5993-4359-b27e-e275970004ef",
   "metadata": {},
   "source": [
    "#### Line with Shaded Error"
   ]
  },
  {
   "cell_type": "code",
   "execution_count": null,
   "id": "820e7ef4-b9a2-4903-baa8-e4f824cdf06d",
   "metadata": {},
   "outputs": [],
   "source": [
    "# import library\n",
    "from matplotlib import pyplot as plt\n",
    "\n",
    "# data lists\n",
    "hours_reported =[3, 2.5, 2.75, 2.5, 2.75, 3.0, 3.5, 3.25, 3.25,  3.5, 3.5, 3.75, 3.75,4, 4.0, 3.75,  4.0, 4.25, 4.25, 4.5, 4.5, 5.0, 5.25, 5, 5.25, 5.5, 5.5, 5.75, 5.25, 4.75]\n",
    "exam_scores = [52.53, 59.05, 61.15, 61.72, 62.58, 62.98, 64.99, 67.63, 68.52, 70.29, 71.33, 72.15, 72.67, 73.85, 74.44, 75.62, 76.81, 77.82, 78.16, 78.94, 79.08, 80.31, 80.77, 81.37, 85.13, 85.38, 89.34, 90.75, 97.24, 98.31]\n",
    "\n",
    "# Create the figure\n",
    "plt.figure(figsize=(10,8))\n",
    "\n",
    "# Create the hours_lower_bound and hours_upper_bound lists\n",
    "hours_lower_bound = [element - (element * 0.2) for element in hours_reported]\n",
    "\n",
    "hours_upper_bound = [element + (element * 0.2) for element in hours_reported]\n",
    "\n",
    "# Make the graph\n",
    "plt.plot(exam_scores, hours_reported, linewidth=2)\n",
    "\n",
    "plt.fill_between(exam_scores, hours_lower_bound, hours_upper_bound, alpha=0.2)\n",
    "\n",
    "plt.title('Time spent studying vs final exam scores')\n",
    "plt.xlabel('Score')\n",
    "plt.ylabel('Hours studying (self-reported)')\n",
    "\n",
    "plt.show()\n",
    "\n",
    "# save the chart\n",
    "plt.savefig('my_line_graph.png')"
   ]
  }
 ],
 "metadata": {
  "kernelspec": {
   "display_name": "Python 3 (ipykernel)",
   "language": "python",
   "name": "python3"
  },
  "language_info": {
   "codemirror_mode": {
    "name": "ipython",
    "version": 3
   },
   "file_extension": ".py",
   "mimetype": "text/x-python",
   "name": "python",
   "nbconvert_exporter": "python",
   "pygments_lexer": "ipython3",
   "version": "3.12.4"
  }
 },
 "nbformat": 4,
 "nbformat_minor": 5
}
