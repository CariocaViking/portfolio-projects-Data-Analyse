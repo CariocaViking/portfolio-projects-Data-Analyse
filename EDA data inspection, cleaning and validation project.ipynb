{
 "cells": [
  {
   "cell_type": "markdown",
   "id": "a045daba-b59a-4a92-aa99-6e0b9a96df1e",
   "metadata": {},
   "source": [
    "# EDA: Diagnosing Diabetes"
   ]
  },
  {
   "cell_type": "markdown",
   "id": "8a72b782-6477-4fbb-83a4-129c9cc3d5c8",
   "metadata": {},
   "source": [
    "#### Initial Inspection"
   ]
  },
  {
   "cell_type": "code",
   "execution_count": null,
   "id": "c99cf8e9-7297-4b7c-ab99-815a3a5fcc1b",
   "metadata": {},
   "outputs": [],
   "source": [
    "# Load libraries\n",
    "import pandas as pd\n",
    "import numpy as np\n",
    "\n",
    "# Import dataset as Pandas dataframe\n",
    "diabetes_data = pd.read_csv(\"diabetes.csv\")\n",
    "\n",
    "# View the first rows of the dataframe\n",
    "print(diabetes_data.head(10))\n",
    "\n",
    "# Count the number of columns (features)\n",
    "print(len(diabetes_data.columns))\n",
    "\n",
    "# Count the number of rows of the dataset\n",
    "print(len(diabetes_data))"
   ]
  },
  {
   "cell_type": "markdown",
   "id": "423d67c1-6128-46f9-87e2-7a010cec8bf4",
   "metadata": {},
   "source": [
    "#### Further Inspection"
   ]
  },
  {
   "cell_type": "code",
   "execution_count": null,
   "id": "72fa3e1f-2d15-4834-afdc-c10b0de6dba7",
   "metadata": {},
   "outputs": [],
   "source": [
    "# Check the columns for null (missing) values\n",
    "print(diabetes_data.isnull().sum())\n",
    "\n",
    "# Double check for missing values\n",
    "print(diabetes_data.describe())\n",
    "\n",
    "# Replace the instances of 0 with NaN\n",
    "diabetes_data[['Glucose', 'BloodPressure', 'SkinThickness', 'Insulin', 'BMI']] = diabetes_data[['Glucose',\\\n",
    "'BloodPressure', 'SkinThickness', 'Insulin', 'BMI']].replace(0,np.nan)\n",
    "\n",
    "# Check for missing (null) values again\n",
    "print(diabetes_data.isnull().sum())\n",
    "\n",
    "# Print out all rows that contain missing (null) values\n",
    "print(diabetes_data[diabetes_data.isnull().any(axis=1)])\n",
    "\n",
    "# Check the data types of each columnn\n",
    "print(diabetes_data.dtypes)\n",
    "\n",
    "# Print the unique values in the Outcome column\n",
    "print(diabetes_data['Outcome'].unique())\n",
    "\n",
    "# Replace 'O' values with 0 in Outcome column\n",
    "diabetes_data['Outcome'] = diabetes_data['Outcome'].replace(['O'], 0)\n",
    "\n",
    "# Convert the Outcome column to int\n",
    "diabetes_data['Outcome'] = diabetes_data['Outcome'].astype(int)\n",
    "print(diabetes_data.dtypes)"
   ]
  }
 ],
 "metadata": {
  "kernelspec": {
   "display_name": "Python 3 (ipykernel)",
   "language": "python",
   "name": "python3"
  },
  "language_info": {
   "codemirror_mode": {
    "name": "ipython",
    "version": 3
   },
   "file_extension": ".py",
   "mimetype": "text/x-python",
   "name": "python",
   "nbconvert_exporter": "python",
   "pygments_lexer": "ipython3",
   "version": "3.12.4"
  }
 },
 "nbformat": 4,
 "nbformat_minor": 5
}
