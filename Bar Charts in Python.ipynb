{
 "cells": [
  {
   "cell_type": "markdown",
   "id": "fdb2c787-969e-49b4-a62b-d51d8d6b35b7",
   "metadata": {},
   "source": [
    "# Exploring Mushrooms"
   ]
  },
  {
   "cell_type": "markdown",
   "id": "3701861d-7184-485f-aff3-0f918a38b3ff",
   "metadata": {},
   "source": [
    "#### Looking Over the Data"
   ]
  },
  {
   "cell_type": "code",
   "execution_count": null,
   "id": "12f03ce3-609b-4314-bece-45cdb96915aa",
   "metadata": {},
   "outputs": [],
   "source": [
    "# load libraries\n",
    "import matplotlib.pyplot as plt\n",
    "import pandas as pd\n",
    "import seaborn as sns\n",
    "\n",
    "# load in the data\n",
    "df = pd.read_csv(\"mushroom_data.csv\")\n",
    "print(df.head())\n",
    "\n",
    "# list of all column headers\n",
    "columns = df.columns.tolist()"
   ]
  },
  {
   "cell_type": "markdown",
   "id": "ef830e40-9d58-4d2e-bbe7-4035b37742b2",
   "metadata": {},
   "source": [
    "#### Plotting Bar Graphs"
   ]
  },
  {
   "cell_type": "code",
   "execution_count": null,
   "id": "e8521927-8094-4fd0-8745-bb7be1955c2e",
   "metadata": {},
   "outputs": [],
   "source": [
    "# create a loop that prints a chart for every column in the dataset\n",
    "for column in columns:\n",
    "  sns.countplot(df[column], order=df[column].value_counts().index)\n",
    "\n",
    "  # rotates the value labels slightly so they don't overlap, also slightly increases font size\n",
    "  plt.xticks(rotation=30, fontsize=10)\n",
    "  # increases the variable label font size slightly to increase readability\n",
    "  plt.xlabel(column, fontsize=12)\n",
    "  plt.title(column + \" Value Counts\")\n",
    "\n",
    "  plt.show()\n",
    "  plt.clf()"
   ]
  }
 ],
 "metadata": {
  "kernelspec": {
   "display_name": "Python 3 (ipykernel)",
   "language": "python",
   "name": "python3"
  },
  "language_info": {
   "codemirror_mode": {
    "name": "ipython",
    "version": 3
   },
   "file_extension": ".py",
   "mimetype": "text/x-python",
   "name": "python",
   "nbconvert_exporter": "python",
   "pygments_lexer": "ipython3",
   "version": "3.12.4"
  }
 },
 "nbformat": 4,
 "nbformat_minor": 5
}
