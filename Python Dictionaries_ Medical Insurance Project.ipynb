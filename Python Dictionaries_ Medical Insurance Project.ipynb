{
 "cells": [
  {
   "cell_type": "markdown",
   "id": "23a7219c-e23f-44c5-941d-dbd126956058",
   "metadata": {},
   "source": [
    "# Python Dictionaries: Medical Insurance Project"
   ]
  },
  {
   "cell_type": "markdown",
   "id": "46da8123-bdc0-4641-9b67-91b507c99c05",
   "metadata": {},
   "source": [
    "#### Storing patient names and insurance costs"
   ]
  },
  {
   "cell_type": "markdown",
   "id": "2ccb16be-d58c-4c8a-a262-709733711817",
   "metadata": {},
   "source": [
    "##### We would like to keep a record of medical patients and their insurance costs:"
   ]
  },
  {
   "cell_type": "code",
   "execution_count": null,
   "id": "e350f6a8-8f2a-4829-9396-6f6966801959",
   "metadata": {},
   "outputs": [],
   "source": [
    "# First, I create an empty dictionary called medical_costs\n",
    "\n",
    "medical_costs = {}"
   ]
  },
  {
   "cell_type": "markdown",
   "id": "209e90c8-1b91-43e5-9937-ef6562cb8ee7",
   "metadata": {},
   "source": [
    "##### Now I want to populate the medical_costs dictionary by adding key-value pairs:"
   ]
  },
  {
   "cell_type": "code",
   "execution_count": null,
   "id": "4b6f486d-90be-4fa4-bc0d-05ca5dd3271b",
   "metadata": {},
   "outputs": [],
   "source": [
    "# I will add \"Marina\" to medical_costs as a key with a value of 6607.0\n",
    "# I will add \"Vinay\" to medical_costs as a key with a value of 3225.0\n",
    "\n",
    "medical_costs.update({\"Marina\": 6607.0, \"Vinay\": 3225.0})\n",
    "\n",
    "# After that, I will add three other patients to the medical_costs dictionary\n",
    "\n",
    "medical_costs.update({\"Connie\": 8886.0, \"Isaac\": 16444.0, \"Valentina\": 6420.0})\n",
    "\n",
    "# I noticed that Vinay’s insurance cost was incorrectly inputted, so I will update the value associated with \n",
    "# Vinay \n",
    "\n",
    "medical_costs[\"Vinay\"] = 3325.0"
   ]
  },
  {
   "cell_type": "markdown",
   "id": "4f9fbf8f-3d4a-4515-a7ce-a4f77e25a7f7",
   "metadata": {},
   "source": [
    "##### I want to calculate the average medical cost of each patient:"
   ]
  },
  {
   "cell_type": "code",
   "execution_count": null,
   "id": "63128f86-ee72-4dca-9c5d-7ec7aa231f22",
   "metadata": {},
   "outputs": [],
   "source": [
    "# I create a variable called total_cost and set it equal to 0\n",
    "# Next, iterate through the values in medical_costs and add each value to the total_cost variable\n",
    "\n",
    "total_cost = 0\n",
    "for costs in medical_costs.values():\n",
    "  total_cost += costs\n",
    "\n",
    "# After the loop, I create a variable called average_cost that stores the total_cost divided by the length of the medical_costs dictionary\n",
    "# Plus I print average_cost with the following message: \"Average Insurance Cost:\" \n",
    "\n",
    "average_cost = total_cost/len(medical_costs)\n",
    "\n",
    "print(\"Average Insurance Cost: \" + str(average_cost))"
   ]
  },
  {
   "cell_type": "markdown",
   "id": "f4e04b03-ada5-41cc-9301-4197377fbc1c",
   "metadata": {},
   "source": [
    "#### List Comprehension to Dictionary"
   ]
  },
  {
   "cell_type": "markdown",
   "id": "d6b72cc2-7059-41c9-880c-ecc2bd33b4bc",
   "metadata": {},
   "source": [
    "##### I have been asked to create a second dictionary that maps patient names to their ages:"
   ]
  },
  {
   "cell_type": "code",
   "execution_count": null,
   "id": "49e3d319-023f-4616-8da4-7dbaaa319d68",
   "metadata": {},
   "outputs": [],
   "source": [
    "# First, I create two lists with the given data called names and ages \n",
    "\n",
    "names = [\"Marina\", \"Vinay\", \"Connie\", \"Isaac\", \"Valentina\"]\n",
    "ages = [27, 24, 43, 35, 52]\n",
    "\n",
    "# Next, I create a variable called zipped_ages that is a zipped list of pairs between the names list and the \n",
    "# ages list\n",
    "\n",
    "zipped_ages = zip(names, ages)\n",
    "\n",
    "# After, I create a dictionary called names_to_ages by using a list comprehension that iterates through \n",
    "# zipped_ages and turns each pair into a key : value item\n",
    "\n",
    "names_to_ages = {key: value for key, value in zipped_ages}\n",
    "\n",
    "# I will use .get() to get the value of Marina’s age and store it in a variable called marina_age. I will use \n",
    "# None as a default value if the key doesn’t exist. After, I will print marina_age with the following message \n",
    "# \"Marina’s age is \"\n",
    "\n",
    "marina_age = names_to_ages.get(\"Marina\", None)\n",
    "print(\"Marina's age is \" + str(marina_age))"
   ]
  },
  {
   "cell_type": "markdown",
   "id": "c7ddda00-6008-454b-89c0-34bc04f0a0d0",
   "metadata": {},
   "source": [
    "#### Using a Dictionary to create a medical database"
   ]
  },
  {
   "cell_type": "markdown",
   "id": "21ef12e2-58ad-4a37-aef3-393b48034c0a",
   "metadata": {},
   "source": [
    "##### I will create a third dictionary to represent a database of medical records that contains information such as a patient’s name, age, sex, gender, BMI, number of children, smoker status, and insurance cost:"
   ]
  },
  {
   "cell_type": "code",
   "execution_count": null,
   "id": "9b036411-1a45-403d-9993-83919857c402",
   "metadata": {},
   "outputs": [],
   "source": [
    "# First, I create an empty dictionary called medical_records\n",
    "\n",
    "medical_records = {}\n",
    "\n",
    "# Next, I will add \"Marina\" to medical_records as a key with the value being a dictionary of medical data\n",
    "\n",
    "medical_records[\"Marina\"] = {\"Age\": 27, \"Sex\": \"Female\", \"BMI\": 31.1, \"Children\": 2, \"Smoker\": \"Non-smoker\",\\\n",
    "                             \"Insurance_cost\": 6607.0}\n",
    "\n",
    "# After, I do the same for the other individuals\n",
    "\n",
    "medical_records[\"Vinay\"] = {\"Age\": 24, \"Sex\": \"Male\", \"BMI\": 26.9, \"Children\": 0, \"Smoker\": \"Non-smoker\",\\\n",
    "                            \"Insurance_cost\": 3225.0}\n",
    "medical_records[\"Connie\"] = {\"Age\": 43, \"Sex\": \"Female\", \"BMI\": 25.3, \"Children\": 3, \"Smoker\": \"Non-smoker\",\\\n",
    "                             \"Insurance_cost\": 8886.0}\n",
    "medical_records[\"Isaac\"] = {\"Age\": 35, \"Sex\": \"Male\", \"BMI\": 20.6, \"Children\": 4, \"Smoker\": \"Smoker\",\\\n",
    "                            \"Insurance_cost\": 16444.0}\n",
    "medical_records[\"Valentina\"] = {\"Age\": 52, \"Sex\": \"Female\", \"BMI\": 18.7, \"Children\": 1, \"Smoker\": \"Non-smoker\",\\\n",
    "                                \"Insurance_cost\": 6420.0}\n",
    "\n",
    "# Now I will print out Connie’s insurance cost with the following message: \"Connie's insurance cost is X \n",
    "# dollars.\"\n",
    "\n",
    "print(\"Connie's insurance cost is \" + str(medical_records[\"Connie\"][\"Insurance_cost\"]) + \" dollars.\")"
   ]
  },
  {
   "cell_type": "markdown",
   "id": "292267cc-39a1-4fef-ae5b-4469c9346c7b",
   "metadata": {},
   "source": [
    "##### Vinay has moved to a new country and we no longer want to include him in our medical records:"
   ]
  },
  {
   "cell_type": "code",
   "execution_count": null,
   "id": "602c0ebf-403d-4885-8a8d-187dae8e69e3",
   "metadata": {},
   "outputs": [],
   "source": [
    "medical_records.pop(\"Vinay\")"
   ]
  },
  {
   "cell_type": "markdown",
   "id": "93aa4c40-067e-4e05-8571-2441294a5b05",
   "metadata": {},
   "source": [
    "##### I want to take a closer look at each patient’s medical record:"
   ]
  },
  {
   "cell_type": "code",
   "execution_count": null,
   "id": "ebf42a41-9eb1-481d-b603-931aaf49f0be",
   "metadata": {},
   "outputs": [],
   "source": [
    "# I will use a for loop to iterate through the items of medical_records. For each key-value pair, I will \n",
    "# print out a string that looks like the following: \"{Name} is a {Age} year old {Sex} {Smoker} with a BMI of \n",
    "# {BMI} and insurance cost of {Insurance_cost}\"\n",
    "\n",
    "for name, record in medical_records.items():\n",
    "  print(name + \" is a \" + str(record[\"Age\"]) + \\\n",
    "  \" year old \" + record[\"Sex\"] + \" \" + record[\"Smoker\"] \\\n",
    "  + \" with a BMI of \" + str(record[\"BMI\"]) + \\\n",
    "  \" and insurance cost of \" + str(record[\"Insurance_cost\"]))"
   ]
  }
 ],
 "metadata": {
  "kernelspec": {
   "display_name": "Python 3 (ipykernel)",
   "language": "python",
   "name": "python3"
  },
  "language_info": {
   "codemirror_mode": {
    "name": "ipython",
    "version": 3
   },
   "file_extension": ".py",
   "mimetype": "text/x-python",
   "name": "python",
   "nbconvert_exporter": "python",
   "pygments_lexer": "ipython3",
   "version": "3.12.4"
  }
 },
 "nbformat": 4,
 "nbformat_minor": 5
}
