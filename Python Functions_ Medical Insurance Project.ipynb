{
 "cells": [
  {
   "cell_type": "markdown",
   "id": "7cbc6207-7b89-4d5e-a3d1-94d4f06fac63",
   "metadata": {},
   "source": [
    "# Python Functions: Medical Insurance Project"
   ]
  },
  {
   "cell_type": "markdown",
   "id": "a4ab87b7-28c1-4564-b707-f1dc9a993b3f",
   "metadata": {},
   "source": [
    "#### Creating a function"
   ]
  },
  {
   "cell_type": "code",
   "execution_count": null,
   "id": "3321daac-0514-4758-a59c-b897cf4668a9",
   "metadata": {},
   "outputs": [],
   "source": [
    "# Start by creating a function called calculate_insurance_cost()\n",
    "# Create a variable called estimated_cost\n",
    "# Add a print statement that prints estimated_cost\n",
    "\n",
    "def calculate_insurance_cost():\n",
    "    estimated_cost = 1000\n",
    "    print(\"The estimated insurance cost for \" + name + \" is \" + str(estimated_cost) + \" dollars.\")\n",
    "    return estimated_cost"
   ]
  },
  {
   "cell_type": "markdown",
   "id": "edef09e1-e928-4161-b334-3a23b8622ae8",
   "metadata": {},
   "source": [
    "#### Adding parameters to a function"
   ]
  },
  {
   "cell_type": "code",
   "execution_count": null,
   "id": "b5c79146-144c-47f0-8200-4b5a84a792f2",
   "metadata": {},
   "outputs": [],
   "source": [
    "# Modify the function definition so that it contains six parameters\n",
    "# Change the value of estimated_cost from 1000 to the formula for insurance cost\n",
    "\n",
    "def calculate_insurance_cost(age, sex, bmi, num_of_children, smoker, name):\n",
    "    estimated_cost = 250*age - 128*sex + 370*bmi + 425*num_of_children + 24000*smoker - 12500\n",
    "    print(\"The estimated insurance cost for \" + name + \" is \" + str(estimated_cost) + \" dollars.\")\n",
    "    return estimated_cost"
   ]
  },
  {
   "cell_type": "markdown",
   "id": "e3e8df0b-0fa4-4cfe-880a-7249184ebbf6",
   "metadata": {},
   "source": [
    "#### Calling a function"
   ]
  },
  {
   "cell_type": "code",
   "execution_count": null,
   "id": "2cea0d36-5ae1-4e2b-9c64-104d61b52461",
   "metadata": {},
   "outputs": [],
   "source": [
    "# Calculate Maria's insurance cost using her input\n",
    "\n",
    "age = 28\n",
    "sex = 0 \n",
    "bmi = 26.2\n",
    "num_of_children = 3\n",
    "smoker = 0\n",
    "name = Maria\n",
    "\n",
    "maria_insurance_cost = calculate_insurance_cost(name = \"Maria\", age = 28, sex = 0, bmi = 26.2,\\ \n",
    "num_of_children = 3, smoker = 0)"
   ]
  }
 ],
 "metadata": {
  "kernelspec": {
   "display_name": "Python 3 (ipykernel)",
   "language": "python",
   "name": "python3"
  },
  "language_info": {
   "codemirror_mode": {
    "name": "ipython",
    "version": 3
   },
   "file_extension": ".py",
   "mimetype": "text/x-python",
   "name": "python",
   "nbconvert_exporter": "python",
   "pygments_lexer": "ipython3",
   "version": "3.12.4"
  }
 },
 "nbformat": 4,
 "nbformat_minor": 5
}
