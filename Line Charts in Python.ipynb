{
 "cells": [
  {
   "cell_type": "markdown",
   "id": "1b721761-6fea-4e2c-a13b-88a6183d6f97",
   "metadata": {},
   "source": [
    "# Sublime Limes' Line Graphs"
   ]
  },
  {
   "cell_type": "markdown",
   "id": "a0e07193-551e-4245-9bd2-c6e55fdde477",
   "metadata": {},
   "source": [
    "#### Understand the data and set up subplots"
   ]
  },
  {
   "cell_type": "code",
   "execution_count": null,
   "id": "9f6d57cc-246b-417f-9889-24ca5f4b86b6",
   "metadata": {},
   "outputs": [],
   "source": [
    "# load libraries\n",
    "from matplotlib import pyplot as plt\n",
    "\n",
    "# lists with months and company values\n",
    "months = [\"Jan\", \"Feb\", \"Mar\", \"Apr\", \"May\", \"Jun\", \"Jul\", \"Aug\", \"Sep\", \"Oct\", \"Nov\", \"Dec\"]\n",
    "\n",
    "visits_per_month = [9695, 7909, 10831, 12942, 12495, 16794, 14161, 12762, 12777, 12439, 10309, 8724]\n",
    "\n",
    "# numbers of limes of different species sold each month\n",
    "key_limes_per_month = [92.0, 109.0, 124.0, 70.0, 101.0, 79.0, 106.0, 101.0, 103.0, 90.0, 102.0, 106.0]\n",
    "persian_limes_per_month = [67.0, 51.0, 57.0, 54.0, 83.0, 90.0, 52.0, 63.0, 51.0, 44.0, 64.0, 78.0]\n",
    "blood_limes_per_month = [75.0, 75.0, 76.0, 71.0, 74.0, 77.0, 69.0, 80.0, 63.0, 69.0, 73.0, 82.0]\n",
    "\n",
    "# create a figure\n",
    "plt.figure(figsize=(12, 8))\n",
    "\n",
    "# create a left subplot\n",
    "ax1 = plt.subplot(1, 2, 1)\n",
    "x_values = range(len(months))\n",
    "plt.plot(x_values, visits_per_month, marker='o')\n",
    "plt.xlabel('Month')\n",
    "plt.ylabel('Visitors')\n",
    "ax1.set_xticks(x_values)\n",
    "ax1.set_xticklabels(months)\n",
    "plt.title('Page Visits Per Month')\n",
    "\n",
    "# create a right subplot\n",
    "ax2 = plt.subplot(1, 2, 2)\n",
    "plt.plot(x_values, key_limes_per_month, color='green')\n",
    "plt.plot(x_values, persian_limes_per_month, color='yellow')\n",
    "plt.plot(x_values, blood_limes_per_month, color='red')\n",
    "plt.xlabel('Month')\n",
    "plt.ylabel('Limes Sold')\n",
    "plt.legend(['Key Limes', 'Persian Limes', 'Blood Limes'])\n",
    "ax2.set_xticks(x_values)\n",
    "ax2.set_xticklabels(months)\n",
    "plt.title('Lime Sales Per Month')\n",
    "plt.subplots_adjust()\n",
    "\n",
    "plt.show()\n",
    "\n",
    "plt.savefig('sublime_limes_line_graphs.png')"
   ]
  }
 ],
 "metadata": {
  "kernelspec": {
   "display_name": "Python 3 (ipykernel)",
   "language": "python",
   "name": "python3"
  },
  "language_info": {
   "codemirror_mode": {
    "name": "ipython",
    "version": 3
   },
   "file_extension": ".py",
   "mimetype": "text/x-python",
   "name": "python",
   "nbconvert_exporter": "python",
   "pygments_lexer": "ipython3",
   "version": "3.12.4"
  }
 },
 "nbformat": 4,
 "nbformat_minor": 5
}
