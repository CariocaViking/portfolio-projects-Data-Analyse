{
 "cells": [
  {
   "cell_type": "markdown",
   "id": "0990fbc9-35a4-45ae-b167-f09e07e15c46",
   "metadata": {},
   "source": [
    "# NBA Trends"
   ]
  },
  {
   "cell_type": "markdown",
   "id": "2f744081-bca3-4a87-9e99-e39792c051d4",
   "metadata": {},
   "source": [
    "#### Analyzing relationships between Quant and Categorical"
   ]
  },
  {
   "cell_type": "code",
   "execution_count": null,
   "id": "d3a7f366-7666-40b8-9a57-7ff14cfcbbba",
   "metadata": {},
   "outputs": [],
   "source": [
    "# Load libraries\n",
    "import numpy as np\n",
    "import pandas as pd\n",
    "from scipy.stats import pearsonr, chi2_contingency\n",
    "import matplotlib.pyplot as plt\n",
    "import seaborn as sns\n",
    "\n",
    "nba = pd.read_csv('./nba_games.csv')\n",
    "\n",
    "# Subset Data to 2010 Season, 2014 Season\n",
    "nba_2010 = nba[nba.year_id == 2010]\n",
    "nba_2014 = nba[nba.year_id == 2014]\n",
    "\n",
    "print(nba_2010.head())\n",
    "print(nba_2014.head())\n",
    "\n",
    "# create two series that represent the points for each team\n",
    "knicks_pts_10 = nba_2010.pts[nba.fran_id == 'Knicks']\n",
    "nets_pts_10 = nba_2010.pts[nba.fran_id == 'Nets']\n",
    "\n",
    "# calculate the difference between the avg points of both teams\n",
    "diff_means_2010 = knicks_pts_10.mean() - nets_pts_10.mean()\n",
    "print(diff_means_2010)\n",
    "\n",
    "# create overlapping histograms\n",
    "plt.hist(knicks_pts_10, color = 'blue', label = 'Knicks', normed = True, alpha = 0.8)\n",
    "plt.hist(nets_pts_10, color = 'red', label = 'Nets', normed = True, alpha = 0.8)\n",
    "plt.legend()\n",
    "plt.title('2010 Season')\n",
    "plt.show()\n",
    "plt.clf()\n",
    "\n",
    "# calculate the mean difference between the two teams\n",
    "knicks_pts_14 = nba_2014.pts[nba.fran_id == 'Knicks']\n",
    "nets_pts_14 = nba_2014.pts[nba.fran_id == 'Nets']\n",
    "\n",
    "diff_means_2014 = knicks_pts_14.mean() - nets_pts_14.mean()\n",
    "print(diff_means_2014)\n",
    "\n",
    "#plot the overlapping histograms\n",
    "plt.hist(knicks_pts_14, color = 'blue', label = 'Knicks', normed = True, alpha = 0.8)\n",
    "plt.hist(nets_pts_14, color = 'red', label = 'Nets', normed = True, alpha = 0.8)\n",
    "plt.legend()\n",
    "plt.title('2014 Season')\n",
    "plt.show()\n",
    "plt.clf()\n",
    "\n",
    "# Generate side-by-side boxplots\n",
    "sns.boxplot(data = nba_2010, x = 'fran_id', y = 'pts')\n",
    "plt.show()"
   ]
  },
  {
   "cell_type": "markdown",
   "id": "df0fa153-e8af-47ef-8bf1-eb5cbcd9b541",
   "metadata": {},
   "source": [
    "#### Analyzing relationships between Categorical variables"
   ]
  },
  {
   "cell_type": "code",
   "execution_count": null,
   "id": "888d35c6-ca87-4a31-920b-a06676ac0fa4",
   "metadata": {},
   "outputs": [],
   "source": [
    "# create a contingency table of frequencies\n",
    "location_result_freq = pd.crosstab(nba_2010.game_result, nba_2010.game_location)\n",
    "print(location_result_freq)\n",
    "\n",
    "# convert the table above to a table of proportions\n",
    "print(location_result_freq / len(nba_2010))\n",
    "\n",
    "# calculate the expected contingency table\n",
    "from scipy.stats import chi2_contingency\n",
    "chi2, pval, dof, expected_result = chi2_contingency(location_result_freq)\n",
    "\n",
    "print(expected_result)\n",
    "print(chi2)"
   ]
  },
  {
   "cell_type": "markdown",
   "id": "e16a687f-38ae-4b10-9c6c-c871e19879f2",
   "metadata": {},
   "source": [
    "#### Analyzing Relationships Between Quantitative Variables"
   ]
  },
  {
   "cell_type": "code",
   "execution_count": null,
   "id": "14099e35-a164-4681-865b-5e3e8ed78421",
   "metadata": {},
   "outputs": [],
   "source": [
    "# calculate the covariance between forecast and point_diff\n",
    "point_diff_forecast_cov = np.cov(nba_2010.forecast, nba_2010.point_diff)\n",
    "print(point_diff_forecast_cov)\n",
    "\n",
    "# calculate the correlation between forecast and point_diff\n",
    "point_diff_forecast_corr = pearsonr(nba_2010.forecast, nba_2010.point_diff)\n",
    "print(point_diff_forecast_corr)\n",
    "\n",
    "# create a scatter plot\n",
    "plt.clf()\n",
    "plt.scatter('forecast', 'point_diff', data=nba_2010)\n",
    "plt.xlabel('Forecasted Win Prob.')\n",
    "plt.ylabel('Point Differential')\n",
    "plt.show()"
   ]
  }
 ],
 "metadata": {
  "kernelspec": {
   "display_name": "Python 3 (ipykernel)",
   "language": "python",
   "name": "python3"
  },
  "language_info": {
   "codemirror_mode": {
    "name": "ipython",
    "version": 3
   },
   "file_extension": ".py",
   "mimetype": "text/x-python",
   "name": "python",
   "nbconvert_exporter": "python",
   "pygments_lexer": "ipython3",
   "version": "3.12.4"
  }
 },
 "nbformat": 4,
 "nbformat_minor": 5
}
