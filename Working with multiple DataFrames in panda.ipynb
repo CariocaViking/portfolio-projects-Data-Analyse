{
 "cells": [
  {
   "cell_type": "markdown",
   "id": "b4bb48e0-430c-49bd-97f8-3c1f6c95f720",
   "metadata": {},
   "source": [
    "# Working with multiple DataFrames in panda"
   ]
  },
  {
   "cell_type": "code",
   "execution_count": null,
   "id": "6b2d9adb-a549-4b78-9103-eb9f995af28d",
   "metadata": {},
   "outputs": [],
   "source": [
    "# Before I analyze anything, I need to import pandas and load the data\n",
    "\n",
    "import pandas as pd\n",
    "\n",
    "visits = pd.read_csv('visits.csv',\n",
    "                        parse_dates=[1])\n",
    "checkouts = pd.read_csv('checkouts.csv',\n",
    "                        parse_dates=[1])"
   ]
  },
  {
   "cell_type": "markdown",
   "id": "4b2bf306-0ac6-40aa-988e-0c3819340593",
   "metadata": {},
   "source": [
    "##### Let's examine the first 10 rows of the data"
   ]
  },
  {
   "cell_type": "code",
   "execution_count": null,
   "id": "dbe8532c-dcd5-4348-b784-03ee421b5596",
   "metadata": {},
   "outputs": [],
   "source": [
    "visits.head(10)\n",
    "checkouts.head(10)"
   ]
  },
  {
   "cell_type": "markdown",
   "id": "5b3089b9-1290-4d66-978f-57b99c1e61d4",
   "metadata": {},
   "source": [
    "##### I want to know the amount of time from a user’s initial visit to the website to when they start to check out."
   ]
  },
  {
   "cell_type": "code",
   "execution_count": null,
   "id": "3348aeed-b6e2-4ca6-9cad-0efe35c8ded5",
   "metadata": {},
   "outputs": [],
   "source": [
    "# I use merge to combine visits and checkouts and save it to a variable\n",
    "\n",
    "v_to_c = pd.merge(visits, checkouts)\n",
    "\n",
    "# In order to calculate the time between visiting and checking out, I define a column of v_to_c called ‘time’ \n",
    "# that calculates the difference between checkout_time and visit_time for every row\n",
    "\n",
    "v_to_c['time'] = v_to_c.checkout_time - v_to_c.visit_time\n",
    "\n",
    "# In order to calculate the average time to checkout I use .mean()\n",
    "\n",
    "v_to_c.time.mean()"
   ]
  }
 ],
 "metadata": {
  "kernelspec": {
   "display_name": "Python 3 (ipykernel)",
   "language": "python",
   "name": "python3"
  },
  "language_info": {
   "codemirror_mode": {
    "name": "ipython",
    "version": 3
   },
   "file_extension": ".py",
   "mimetype": "text/x-python",
   "name": "python",
   "nbconvert_exporter": "python",
   "pygments_lexer": "ipython3",
   "version": "3.12.4"
  }
 },
 "nbformat": 4,
 "nbformat_minor": 5
}
